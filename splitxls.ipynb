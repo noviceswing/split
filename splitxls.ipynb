{
 "cells": [
  {
   "cell_type": "code",
   "execution_count": 2,
   "metadata": {},
   "outputs": [],
   "source": [
    "import os \n",
    "os.makedirs(os.path.join('.', 'data'), exist_ok=True)\n",
    "data_file = os.path.join('.', 'data', 'house_tiny.csv')\n",
    "with open(data_file, 'w') as f:\n",
    "    f.write('index,name,price\\n')\n",
    "    f.write('1, Pava, 127500\\n')\n",
    "    f.write('2,why,106000\\n')\n",
    "    f.write('3,why2,178100\\n')\n",
    "    f.write('4,why3,140000\\n')\n"
   ]
  },
  {
   "cell_type": "code",
   "execution_count": 2,
   "metadata": {},
   "outputs": [],
   "source": [
    "import pandas as pd\n",
    "df = pd.read_csv('/home/why/CODE/PYTHON/split/data/house_tiny.csv')\n"
   ]
  },
  {
   "cell_type": "code",
   "execution_count": 3,
   "metadata": {},
   "outputs": [
    {
     "name": "stdout",
     "output_type": "stream",
     "text": [
      "1\n",
      "why\n",
      "2\n",
      "why2\n",
      "3\n",
      "why3\n",
      "4\n",
      "why4\n",
      "5\n",
      "why5\n"
     ]
    }
   ],
   "source": [
    "df1 = pd.read_excel('/home/why/CODE/PYTHON/split/data/house_tiny.xlsx',engine='openpyxl',index_col=0)\n",
    "# print(df1)\n",
    "for index, row in df1.iterrows():\n",
    "    # print(index)\n",
    "    print(index)\n",
    "    print(row['name'])\n",
    "    df = pd.DataFrame({'index':[index], 'name':row['name'], 'price':row['price']})\n",
    "    df.to_excel('/home/why/CODE/PYTHON/split/data/{}.xlsx'.format(index))"
   ]
  },
  {
   "cell_type": "code",
   "execution_count": null,
   "metadata": {},
   "outputs": [],
   "source": []
  }
 ],
 "metadata": {
  "kernelspec": {
   "display_name": "base",
   "language": "python",
   "name": "python3"
  },
  "language_info": {
   "codemirror_mode": {
    "name": "ipython",
    "version": 3
   },
   "file_extension": ".py",
   "mimetype": "text/x-python",
   "name": "python",
   "nbconvert_exporter": "python",
   "pygments_lexer": "ipython3",
   "version": "3.8.3"
  },
  "orig_nbformat": 4,
  "vscode": {
   "interpreter": {
    "hash": "07754ccf1f8a17092b49feb77356b50af5e96de32e58f4a2fd24b422b9add01a"
   }
  }
 },
 "nbformat": 4,
 "nbformat_minor": 2
}
